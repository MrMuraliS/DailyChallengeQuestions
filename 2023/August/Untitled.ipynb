{
 "cells": [
  {
   "cell_type": "code",
   "execution_count": null,
   "id": "67dce6eb",
   "metadata": {},
   "outputs": [],
   "source": [
    "from turtle import *\n",
    "\n",
    "speed(0)\n",
    "setup(800, 500)\n",
    "\n",
    "penup()\n",
    "goto(-400, 250)\n",
    "pendown()\n",
    "\n",
    "# Red rectangle\n",
    "color(\"red\")\n",
    "begin_fill()\n",
    "forward(800)\n",
    "right(90)\n",
    "forward(250)\n",
    "right(90)\n",
    "forward(800)\n",
    "end_fill()\n",
    "\n",
    "hideturtle()\n",
    "done()"
   ]
  },
  {
   "cell_type": "code",
   "execution_count": null,
   "id": "ea1f42bd",
   "metadata": {},
   "outputs": [],
   "source": []
  }
 ],
 "metadata": {
  "kernelspec": {
   "display_name": "Python 3 (ipykernel)",
   "language": "python",
   "name": "python3"
  },
  "language_info": {
   "codemirror_mode": {
    "name": "ipython",
    "version": 3
   },
   "file_extension": ".py",
   "mimetype": "text/x-python",
   "name": "python",
   "nbconvert_exporter": "python",
   "pygments_lexer": "ipython3",
   "version": "3.10.8"
  }
 },
 "nbformat": 4,
 "nbformat_minor": 5
}
