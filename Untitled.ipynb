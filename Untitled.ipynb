{
 "cells": [
  {
   "cell_type": "markdown",
   "id": "8897c8e3-0d00-440a-90cb-c5e59966af81",
   "metadata": {},
   "source": [
    "<h1><center> <font color='green'>🔢 Guess the Number Game</font></center></h1>"
   ]
  },
  {
   "cell_type": "code",
   "execution_count": null,
   "id": "9daeecc2-7d0c-4008-9c70-4116a1032a80",
   "metadata": {},
   "outputs": [],
   "source": [
    "%%sh\n",
    "# Install the below library\n",
    "pip install qrcode[pil]"
   ]
  },
  {
   "cell_type": "code",
   "execution_count": 11,
   "id": "649204ca-d341-4693-9378-f6611743d3be",
   "metadata": {},
   "outputs": [
    {
     "data": {
      "image/png": "[encoded data removed]",
      "text/plain": [
       "<IPython.core.display.Image object>"
      ]
     },
     "metadata": {},
     "output_type": "display_data"
    }
   ],
   "source": [
    "import qrcode\n",
    "from IPython.display import Image as IPImage, display\n",
    "\n",
    "# Data to be encoded in the QR code\n",
    "data = \"www.youtube.com/@ClearPyCode\"\n",
    "\n",
    "# Generate QR code\n",
    "qr = qrcode.QRCode(\n",
    "    version=1,\n",
    "    error_correction=qrcode.constants.ERROR_CORRECT_L,\n",
    "    box_size=10,\n",
    "    border=4,\n",
    ")\n",
    "qr.add_data(data)\n",
    "qr.make(fit=True)\n",
    "\n",
    "# Create and save the QR code image\n",
    "qr_img_path = \"qrcode_example.png\"\n",
    "qr.make_image(fill_color=\"black\", back_color=\"white\").save(qr_img_path)\n",
    "\n",
    "# Display the QR code image using IPython.display\n",
    "display(IPImage(filename=qr_img_path))"
   ]
  },
  {
   "cell_type": "code",
   "execution_count": null,
   "id": "bda4f978-5728-4614-916c-db3dd5c123f9",
   "metadata": {},
   "outputs": [],
   "source": []
  }
 ],
 "metadata": {
  "kernelspec": {
   "display_name": "Python 3 (ipykernel)",
   "language": "python",
   "name": "python3"
  },
  "language_info": {
   "codemirror_mode": {
    "name": "ipython",
    "version": 3
   },
   "file_extension": ".py",
   "mimetype": "text/x-python",
   "name": "python",
   "nbconvert_exporter": "python",
   "pygments_lexer": "ipython3",
   "version": "3.11.5"
  }
 },
 "nbformat": 4,
 "nbformat_minor": 5
}
