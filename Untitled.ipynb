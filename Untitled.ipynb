{
 "cells": [
  {
   "cell_type": "markdown",
   "id": "8897c8e3-0d00-440a-90cb-c5e59966af81",
   "metadata": {},
   "source": [
    "<h1><center> <font color='blue'>🚀 SwiftLink: Instant URL Shortener in Python</font></center></h1>"
   ]
  },
  {
   "cell_type": "code",
   "execution_count": null,
   "id": "9daeecc2-7d0c-4008-9c70-4116a1032a80",
   "metadata": {},
   "outputs": [],
   "source": [
    "%%sh\n",
    "# Install the below library\n",
    "pip install pyshorteners"
   ]
  },
  {
   "cell_type": "code",
   "execution_count": 2,
   "id": "bda4f978-5728-4614-916c-db3dd5c123f9",
   "metadata": {},
   "outputs": [
    {
     "name": "stdin",
     "output_type": "stream",
     "text": [
      "Enter the URL to shorten:  https://www.youtube.com/@ClearPyCode\n"
     ]
    },
    {
     "name": "stdout",
     "output_type": "stream",
     "text": [
      "Shortened URL: https://tinyurl.com/2cwpfka8\n"
     ]
    }
   ],
   "source": [
    "import pyshorteners\n",
    "\n",
    "def shorten_url(url):\n",
    "    s = pyshorteners.Shortener()\n",
    "    short_url = s.tinyurl.short(url)\n",
    "    return short_url\n",
    "\n",
    "url = input(\"Enter the URL to shorten: \")\n",
    "shortened_url = shorten_url(url)\n",
    "print(f\"Shortened URL: {shortened_url}\")"
   ]
  },
  {
   "cell_type": "code",
   "execution_count": 16,
   "id": "ae31d6c3-8e11-424a-b993-bea17536057f",
   "metadata": {},
   "outputs": [],
   "source": [
    "def expand_url(short_url):\n",
    "    s = pyshorteners.Shortener()\n",
    "    original_url = s.tinyurl.expand(short_url)\n",
    "    return original_url"
   ]
  },
  {
   "cell_type": "code",
   "execution_count": 19,
   "id": "0850d967-2735-4d21-8279-4568f875b459",
   "metadata": {},
   "outputs": [
    {
     "data": {
      "text/plain": [
       "'https://www.youtube.com/@ClearPyCode'"
      ]
     },
     "execution_count": 19,
     "metadata": {},
     "output_type": "execute_result"
    }
   ],
   "source": [
    "expand_url(\"https://tinyurl.com/2cwpfka8\")"
   ]
  },
  {
   "cell_type": "code",
   "execution_count": 20,
   "id": "5f46c4ea-0990-4ccf-a852-153f3740644b",
   "metadata": {},
   "outputs": [
    {
     "ename": "ExpandingErrorException",
     "evalue": "There was an error on trying to expand the url: None",
     "output_type": "error",
     "traceback": [
      "\u001b[0;31m---------------------------------------------------------------------------\u001b[0m",
      "\u001b[0;31mExpandingErrorException\u001b[0m                   Traceback (most recent call last)",
      "Cell \u001b[0;32mIn[20], line 1\u001b[0m\n\u001b[0;32m----> 1\u001b[0m \u001b[43mexpand_url\u001b[49m\u001b[43m(\u001b[49m\u001b[38;5;124;43m\"\u001b[39;49m\u001b[38;5;124;43mhttps://tinyurl.com/24ud4dwk\u001b[39;49m\u001b[38;5;124;43m\"\u001b[39;49m\u001b[43m)\u001b[49m\n",
      "Cell \u001b[0;32mIn[16], line 3\u001b[0m, in \u001b[0;36mexpand_url\u001b[0;34m(short_url)\u001b[0m\n\u001b[1;32m      1\u001b[0m \u001b[38;5;28;01mdef\u001b[39;00m \u001b[38;5;21mexpand_url\u001b[39m(short_url):\n\u001b[1;32m      2\u001b[0m     s \u001b[38;5;241m=\u001b[39m pyshorteners\u001b[38;5;241m.\u001b[39mShortener()\n\u001b[0;32m----> 3\u001b[0m     original_url \u001b[38;5;241m=\u001b[39m \u001b[43ms\u001b[49m\u001b[38;5;241;43m.\u001b[39;49m\u001b[43mtinyurl\u001b[49m\u001b[38;5;241;43m.\u001b[39;49m\u001b[43mexpand\u001b[49m\u001b[43m(\u001b[49m\u001b[43mshort_url\u001b[49m\u001b[43m)\u001b[49m\n\u001b[1;32m      4\u001b[0m     \u001b[38;5;28;01mreturn\u001b[39;00m original_url\n",
      "File \u001b[0;32m~/PycharmProjects/NewProject/DailyChallengeQuestions /lib/python3.11/site-packages/pyshorteners/base.py:135\u001b[0m, in \u001b[0;36mBaseShortener.expand\u001b[0;34m(self, url)\u001b[0m\n\u001b[1;32m    133\u001b[0m \u001b[38;5;28;01mif\u001b[39;00m response\u001b[38;5;241m.\u001b[39mok:\n\u001b[1;32m    134\u001b[0m     \u001b[38;5;28;01mreturn\u001b[39;00m response\u001b[38;5;241m.\u001b[39murl\n\u001b[0;32m--> 135\u001b[0m \u001b[38;5;28;01mraise\u001b[39;00m ExpandingErrorException\n",
      "\u001b[0;31mExpandingErrorException\u001b[0m: There was an error on trying to expand the url: None"
     ]
    }
   ],
   "source": [
    "expand_url(\"https://tinyurl.com/24ud4dwk\")"
   ]
  },
  {
   "cell_type": "code",
   "execution_count": null,
   "id": "f95aae98-7533-4f63-8781-6422eb629b1d",
   "metadata": {},
   "outputs": [],
   "source": []
  }
 ],
 "metadata": {
  "kernelspec": {
   "display_name": "Python 3 (ipykernel)",
   "language": "python",
   "name": "python3"
  },
  "language_info": {
   "codemirror_mode": {
    "name": "ipython",
    "version": 3
   },
   "file_extension": ".py",
   "mimetype": "text/x-python",
   "name": "python",
   "nbconvert_exporter": "python",
   "pygments_lexer": "ipython3",
   "version": "3.11.5"
  }
 },
 "nbformat": 4,
 "nbformat_minor": 5
}
