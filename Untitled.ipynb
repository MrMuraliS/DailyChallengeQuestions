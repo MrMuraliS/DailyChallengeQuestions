{
 "cells": [
  {
   "cell_type": "markdown",
   "id": "8897c8e3-0d00-440a-90cb-c5e59966af81",
   "metadata": {},
   "source": [
    "<h1><center> <font color='blue'>⏲️ Simple Countdown Timer in Python ⏲️</font></center></h1>"
   ]
  },
  {
   "cell_type": "code",
   "execution_count": 1,
   "id": "bda4f978-5728-4614-916c-db3dd5c123f9",
   "metadata": {},
   "outputs": [
    {
     "name": "stdin",
     "output_type": "stream",
     "text": [
      "Enter the countdown time in seconds:  10\n"
     ]
    },
    {
     "name": "stdout",
     "output_type": "stream",
     "text": [
      "Time's up!\n"
     ]
    }
   ],
   "source": [
    "import time\n",
    "\n",
    "def countdown_timer(seconds):\n",
    "    while seconds:\n",
    "        mins, secs = divmod(seconds, 60)\n",
    "        timeformat = f'{mins:02d}:{secs:02d}'\n",
    "        print(timeformat, end='\\r')\n",
    "        time.sleep(1)\n",
    "        seconds -= 1\n",
    "\n",
    "    print(\"Time's up!\")\n",
    "\n",
    "def main():\n",
    "    try:\n",
    "        seconds = int(input(\"Enter the countdown time in seconds: \"))\n",
    "        countdown_timer(seconds)\n",
    "    except ValueError:\n",
    "        print(\"Invalid input. Please enter a valid number of seconds.\")\n",
    "\n",
    "if __name__ == \"__main__\":\n",
    "    main()"
   ]
  },
  {
   "cell_type": "code",
   "execution_count": null,
   "id": "bdb3a902-db03-4a34-a4dd-6860909ae41c",
   "metadata": {},
   "outputs": [],
   "source": []
  }
 ],
 "metadata": {
  "kernelspec": {
   "display_name": "Python 3 (ipykernel)",
   "language": "python",
   "name": "python3"
  },
  "language_info": {
   "codemirror_mode": {
    "name": "ipython",
    "version": 3
   },
   "file_extension": ".py",
   "mimetype": "text/x-python",
   "name": "python",
   "nbconvert_exporter": "python",
   "pygments_lexer": "ipython3",
   "version": "3.11.5"
  }
 },
 "nbformat": 4,
 "nbformat_minor": 5
}
